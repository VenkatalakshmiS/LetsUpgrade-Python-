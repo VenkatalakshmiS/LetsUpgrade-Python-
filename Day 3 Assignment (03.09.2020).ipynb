{
 "cells": [
  {
   "cell_type": "markdown",
   "metadata": {},
   "source": [
    "# Assignment 1"
   ]
  },
  {
   "cell_type": "code",
   "execution_count": 2,
   "metadata": {},
   "outputs": [
    {
     "name": "stdout",
     "output_type": "stream",
     "text": [
      "Enter the altitude of a plane (in ft):-60\n",
      "Altitude value must be positive\n"
     ]
    }
   ],
   "source": [
    "altitude = int( input( \"Enter the altitude of a plane (in ft):\" ))\n",
    "\n",
    "if altitude > 0 and altitude <= 1000:\n",
    "    print(\"Safe to land\")\n",
    "\n",
    "elif altitude > 1000 and altitude <= 5000:\n",
    "    print(\"Come down to 1000 ft\")\n",
    "    \n",
    "elif altitude > 5000:\n",
    "    print(\"Go around and try later\")\n",
    "\n",
    "else:\n",
    "    print(\"Altitude value must be positive\")"
   ]
  },
  {
   "cell_type": "markdown",
   "metadata": {},
   "source": [
    "# Assignment 2"
   ]
  },
  {
   "cell_type": "code",
   "execution_count": 3,
   "metadata": {},
   "outputs": [
    {
     "name": "stdout",
     "output_type": "stream",
     "text": [
      "2 3 5 7 11 13 17 19 23 29 31 37 41 43 47 53 59 61 67 71 73 79 83 89 97 101 103 107 109 113 127 131 137 139 149 151 157 163 167 173 179 181 191 193 197 199 "
     ]
    }
   ],
   "source": [
    "for i in range (1,201):\n",
    "    if i > 1:\n",
    "        for num in range(2,i):\n",
    "            if(i % num) == 0 :\n",
    "                break\n",
    "        else:\n",
    "            print( i , end = \" \")"
   ]
  },
  {
   "cell_type": "code",
   "execution_count": null,
   "metadata": {},
   "outputs": [],
   "source": []
  }
 ],
 "metadata": {
  "kernelspec": {
   "display_name": "Python 3",
   "language": "python",
   "name": "python3"
  },
  "language_info": {
   "codemirror_mode": {
    "name": "ipython",
    "version": 3
   },
   "file_extension": ".py",
   "mimetype": "text/x-python",
   "name": "python",
   "nbconvert_exporter": "python",
   "pygments_lexer": "ipython3",
   "version": "3.8.3"
  }
 },
 "nbformat": 4,
 "nbformat_minor": 4
}
